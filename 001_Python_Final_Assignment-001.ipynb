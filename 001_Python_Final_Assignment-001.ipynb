{
 "cells": [
  {
   "cell_type": "markdown",
   "metadata": {},
   "source": [
    "&emsp;&emsp;&emsp;&emsp;&emsp;&emsp;&emsp;&emsp; **JLUFE**  &emsp;&emsp;&emsp;&emsp;&emsp;&emsp;&emsp;&emsp;&emsp;&emsp;&emsp;&emsp;&emsp;&emsp;&emsp;&emsp;&emsp;&emsp;&emsp;&emsp;&emsp;&emsp;&emsp;&emsp;&emsp;&emsp;&emsp;&emsp;&emsp;&emsp;&emsp;&emsp;&emsp;&ensp;**Fall 2021(Sep-Jan)**  \n",
    "\n",
    "\n",
    "**<div align=\"center\">Final Assignment Report</div>**\n",
    "<br>\n",
    "\n",
    "**<div align=\"center\">JILIN UNIVERSITY OF FINANCE AND ECONOMICS</div>**\n",
    "<br>\n",
    "\n",
    "**<div align=\"center\"><span style=\"color:blue\">College of Managment Science and Information Engineering</span></div>**\n",
    "\n",
    "**<div align=\"center\">BSc in <span style=\"color:blue\">Data Science and Big Data Technology</span></div>**\n",
    "\n",
    "**<div align=\"center\">(2021)</div>**\n",
    "\n",
    "<br> \n",
    "\n",
    "**<div align=\"center\">MODULE: Intelligent Technology</div>**\n",
    "\n",
    "**<div align=\"center\">Final Assignment</div>**\n",
    "\n",
    "<br>\n",
    "\n",
    "**<div align=\"center\">20/12/2021</div>**\n",
    "\n",
    "\n",
    "\n",
    "**<div align=\"center\">Submitted by:</div>**\n",
    "\n",
    "**<div align=\"center\"><span style=\"color:blue\">Milan(米兰) 0318021907632 (2005)</span></div>**\n",
    "**<div align=\"center\">QQ: <span style=\"color:blue\">3086215265</span> | Github ID: <span style=\"color:blue\">milaan9</span></div>**"
   ]
  },
  {
   "cell_type": "markdown",
   "metadata": {},
   "source": [
    "# Instructions: \n",
    "\n",
    "\n",
    "1. I have added tips and required learning resources for each question, which helps you to solve the problems. \n",
    "\n",
    "2. Finish the assignment on your **OWN**. **<span style=\"color:red\">Any student find copying/sharing from classmates or internet will get '0' points!!!</span>**\n",
    "\n",
    "3. <span class='label label-default'>Accept this assignment</span> from ➞ **[GitHub Clasroom link](https://classroom.github.com/a/KX_0SzHL)**. This will create private repository of the assignment in your GitHub Clasroom account.\n",
    "\n",
    "4. In your repository <span class='label label-default'>Clone</span> ➞ <span class='label label-default'>Download ZIP</span> in your computer.\n",
    "\n",
    "5. Change your ➞ **Major**, **Name**, **Student number**, **Class number**, **QQ number** and **GitHub ID**\n",
    "\n",
    "6. Once you finish the Assignment **[convert your .ipynb file into PDF](https://github.com/milaan9/91_Python_Mini_Projects/tree/main/001_Convert_IPython_to_PDF)** (both **.ipynb** and **.pdf** file will be required!)\n",
    "\n",
    "7. To submit your assignment, go to GitHub Classrom repository and <span class='label label-default'>Add file</span> ➞ <span class='label label-default'>Upload files</span> ➞ <span class='label label-default'>Commit changes</span>\n",
    "    1. Replace the question (**.ipynb**) file with your solution (**.ipynb**) file.\n",
    "    2. Also, upload (**.pdf**) converted file of your solution (**.ipynb**) file."
   ]
  },
  {
   "cell_type": "markdown",
   "metadata": {},
   "source": [
    "# Python Final Assignment"
   ]
  },
  {
   "cell_type": "markdown",
   "metadata": {},
   "source": [
    "### Question 1: \n",
    "\n",
    "Write a python program to create a 3x3 matrix with values ranging from 12 to 20\n",
    "\n",
    "Expected Output:\n",
    "```\n",
    "[[12 13 14]\n",
    " [15 16 17]\n",
    " [18 19 20]]\n",
    "```"
   ]
  },
  {
   "cell_type": "code",
   "execution_count": 77,
   "metadata": {},
   "outputs": [
    {
     "data": {
      "text/plain": [
       "array([[12, 13, 14],\n",
       "       [15, 16, 17],\n",
       "       [18, 19, 20]])"
      ]
     },
     "execution_count": 77,
     "metadata": {},
     "output_type": "execute_result"
    }
   ],
   "source": [
    "# Solution 1\n",
    "import numpy\n",
    "matrix = numpy.array([[12,13,14], [15,16,17], [18,19,20]])\n",
    "matrix\n"
   ]
  },
  {
   "cell_type": "markdown",
   "metadata": {},
   "source": [
    "### Question 2: \n",
    "\n",
    "Write a python program to find the gravitational force acting between two objects.\n",
    "\n",
    "\\begin{equation*}\n",
    "F=G\\frac{{m_1}{m_2}}{{r^2}}\n",
    "\\end{equation*}\n",
    "\n",
    "Expected Output:\n",
    "```\n",
    "Enter the first mass (m1): 7000000\n",
    "Enter the second mass (m2): 600000\n",
    "Enter the distance between the centres of the masses (N): 16\n",
    "Hence, the Gravitational Force is:  1.09 N\n",
    "```"
   ]
  },
  {
   "cell_type": "code",
   "execution_count": 78,
   "metadata": {},
   "outputs": [
    {
     "ename": "SyntaxError",
     "evalue": "invalid syntax (<string>, line 1)",
     "output_type": "error",
     "traceback": [
      "Traceback \u001b[1;36m(most recent call last)\u001b[0m:\n",
      "  File \u001b[0;32m\"C:\\Users\\Dream\\AppData\\Local\\Programs\\Python\\Python37\\lib\\site-packages\\IPython\\core\\interactiveshell.py\"\u001b[0m, line \u001b[0;32m3418\u001b[0m, in \u001b[0;35mrun_code\u001b[0m\n    exec(code_obj, self.user_global_ns, self.user_ns)\n",
      "\u001b[1;36m  File \u001b[1;32m\"<ipython-input-78-f94e37e52d7c>\"\u001b[1;36m, line \u001b[1;32m5\u001b[1;36m, in \u001b[1;35m<module>\u001b[1;36m\u001b[0m\n\u001b[1;33m    Force = eval(f\"(667*{m1}*{m2}/({N}*{N}))/10000000000000\")\u001b[0m\n",
      "\u001b[1;36m  File \u001b[1;32m\"<string>\"\u001b[1;36m, line \u001b[1;32m1\u001b[0m\n\u001b[1;33m    (667**/(*))/10000000000000\u001b[0m\n\u001b[1;37m          ^\u001b[0m\n\u001b[1;31mSyntaxError\u001b[0m\u001b[1;31m:\u001b[0m invalid syntax\n"
     ]
    }
   ],
   "source": [
    "# Solution 2\n",
    "m1 = input(\"Enter the first mass (m1):\")\n",
    "m2 = input(\"Enter the second mass (m2):\")\n",
    "N = input(\"Enter the distance between the centres of the masses (N): \")\n",
    "Force = eval(f\"(667*{m1}*{m2}/({N}*{N}))/10000000000000\")\n",
    "Force = \"%0.2f N\"%Force\n",
    "Force\n"
   ]
  },
  {
   "cell_type": "markdown",
   "metadata": {},
   "source": [
    "### Question 3: \n",
    "\n",
    "Write a python program to create a 9x9 array with random values and find the minimum and maximum values\n",
    "\n",
    "`💡hint: min, max`"
   ]
  },
  {
   "cell_type": "code",
   "execution_count": 79,
   "metadata": {},
   "outputs": [
    {
     "data": {
      "text/plain": [
       "array([[3, 8, 5, 0, 2, 2, 5, 3, 2],\n",
       "       [7, 8, 2, 0, 5, 7, 8, 3, 5],\n",
       "       [5, 0, 8, 7, 7, 3, 3, 0, 4],\n",
       "       [2, 3, 2, 5, 7, 3, 3, 3, 9],\n",
       "       [3, 9, 0, 7, 0, 9, 3, 3, 0],\n",
       "       [1, 3, 6, 2, 8, 5, 7, 0, 4],\n",
       "       [3, 4, 3, 3, 1, 2, 7, 3, 3],\n",
       "       [3, 1, 5, 6, 7, 1, 8, 3, 8],\n",
       "       [2, 2, 9, 9, 8, 4, 7, 3, 9]])"
      ]
     },
     "execution_count": 79,
     "metadata": {},
     "output_type": "execute_result"
    }
   ],
   "source": [
    "# Solution 3\n",
    "import numpy\n",
    "matrix=numpy.random.randint(0,10,size=[9,9])\n",
    "matrix"
   ]
  },
  {
   "cell_type": "markdown",
   "metadata": {},
   "source": [
    "### Question 4: \n",
    "\n",
    "Write a python program that generates a list containing only common elements between the two randomly generated lists (without duplicates). Make sure your program works on two lists of different sizes.\n",
    "\n",
    "Expected Output:\n",
    "```\n",
    "List 1: [0, 2, 4, 6, 12, 13, 14, 18, 20, 24, 25, 26, 27]\n",
    "List 2: [0, 4, 7, 9, 10, 11, 13, 14, 17, 18, 20,]\n",
    "List of common elements are:  [0, 4, 13, 14, 18, 20]\n",
    "```"
   ]
  },
  {
   "cell_type": "code",
   "execution_count": 80,
   "metadata": {},
   "outputs": [],
   "source": [
    "# Solution 4\n",
    "\n",
    "import random\n",
    "list_1 = []\n",
    "for i in range(13):\n",
    "    list_1.append(random.randint(1,50) )\n",
    "list_2 = []\n",
    "for i in range(11):\n",
    "    list_2.append(random.randint(1,50))\n",
    "print(list_1)\n",
    "print(list_2)\n",
    "\n",
    "list_3=[] \n",
    "for item in list_1:\n",
    "    if item in list_2:\n",
    "        list_3.append(item)\n",
    "print(list_3)"
   ]
  },
  {
   "cell_type": "markdown",
   "metadata": {},
   "source": [
    "### Question 5: \n",
    "\n",
    "Write a python program that asks the user **reverse** of last 2 digit of (your) student number and generates Fibonacci series.\n",
    "\n",
    "Expected Output:\n",
    "```\n",
    "Last two numbers of my student number: 21\n",
    "How many numbers that generates?: 12\n",
    "Fibonacci series:\n",
    " [1, 1, 2, 3, 5, 8, 13, 21, 34, 55, 89, 144]\n",
    "```"
   ]
  },
  {
   "cell_type": "code",
   "execution_count": 81,
   "metadata": {},
   "outputs": [],
   "source": [
    "# Solution 5\n",
    "student = int(input(\"Last two numbers of my student number:\"))\n",
    "numbers = int(input(\"How many numbers that generates?:\"))\n",
    "n = 0\n",
    "a = 0\n",
    "b = 1\n",
    "Fibonacci_series=[]\n",
    "while n < numbers :\n",
    "    Fibonacci_series.append(b)\n",
    "    a, b = b, a + b\n",
    "    n = n + 1\n",
    "Fibonacci_series"
   ]
  },
  {
   "cell_type": "markdown",
   "metadata": {},
   "source": [
    "### Question 6:\n",
    "\n",
    "Generate solution by asking the user what size game board they want to draw, and draw it for them to the screen using Python's print statement.\n",
    "\n",
    "Expected Output:\n",
    "```\n",
    "Enter the size of board you want to draw: 4\n",
    " --- --- --- ---\n",
    "|   |   |   |   |   \n",
    " --- --- --- ---\n",
    "|   |   |   |   |   \n",
    " --- --- --- ---\n",
    "|   |   |   |   |   \n",
    " --- --- --- ---\n",
    "|   |   |   |   |   \n",
    " --- --- --- ---\n",
    "```"
   ]
  },
  {
   "cell_type": "code",
   "execution_count": 82,
   "metadata": {},
   "outputs": [],
   "source": [
    "# Solution 6\n",
    "str1=''' --- --- --- ---\n",
    "|   |   |   |   |   \n",
    " --- --- --- ---\n",
    "|   |   |   |   |   \n",
    " --- --- --- ---\n",
    "|   |   |   |   |   \n",
    " --- --- --- ---\n",
    "|   |   |   |   |   \n",
    " --- --- --- ---'''.split('\\n')\n",
    "[print(i) for i in str1]"
   ]
  },
  {
   "cell_type": "markdown",
   "metadata": {},
   "source": [
    "### Question 7: \n",
    "\n",
    "Write a python program using function that takes a string and returns the number (count) of vowels contained within it.\n",
    "\n",
    "Expected Output:\n",
    "```\n",
    "Enter string: Celebration\n",
    "Total vowels in the string: 5\n",
    "Identified vowels are:  ['e', 'e', 'a', 'i', 'o']\n",
    "```\n",
    "\n",
    "More examples:\n",
    "```\n",
    "count_vowels(\"Palm\") ➞ 1\n",
    "count_vowels(\"Prediction\") ➞ 4\n",
    "```"
   ]
  },
  {
   "cell_type": "code",
   "execution_count": 83,
   "metadata": {},
   "outputs": [],
   "source": [
    "# Solution 7\n",
    "vowels = ['e','e','a','i','o']\n",
    "cun=0\n",
    "str1 = input()\n",
    "for s in str1:\n",
    "    if s in vowels: \n",
    "        cun=cun+1\n",
    "cun"
   ]
  },
  {
   "cell_type": "markdown",
   "metadata": {},
   "source": [
    "### Question 8: \n",
    "\n",
    "Write a python program using function that encrypts a given input with these steps:\n",
    "\n",
    "Input: \"apple\"\n",
    "\n",
    "* Step 1: Reverse the input: \"elppa\"\n",
    "* Step 2: Replace all vowels using the following chart:\n",
    "\n",
    "```python\n",
    "a => 0\n",
    "e => 1\n",
    "i => 2\n",
    "o => 2\n",
    "u => 3\n",
    "# 1lpp0\n",
    "```\n",
    "\n",
    "* Step 3: Add \"aca\" to the end of the word: \"1lpp0aca\"\n",
    "\n",
    "Expected Output:\n",
    "```\n",
    "Word:  apple\n",
    "Encrypted word: 1lpp0aca\n",
    "```\n",
    "\n",
    "More Examples:\n",
    "```\n",
    "encrypt(\"banana\") ➞ \"0n0n0baca\"\n",
    "encrypt(\"karaca\") ➞ \"0c0r0kaca\"\n",
    "encrypt(\"burak\") ➞ \"k0r3baca\"\n",
    "encrypt(\"alpaca\") ➞ \"0c0pl0aca\"\n",
    "```"
   ]
  },
  {
   "cell_type": "code",
   "execution_count": 84,
   "metadata": {},
   "outputs": [],
   "source": [
    "# Solution 8\n",
    "str1=input(\"input_str:\")\n",
    "one=str1[::-1]\n",
    "zifudict={\"a\":0 ,\"e\": 1,\"i\": 2,\"o\":3 ,\"u\": 4,}\n",
    "str2=''\n",
    "for i in one:\n",
    "    if i in zifudict:\n",
    "        str2+=str(zifudict[i])\n",
    "    else:\n",
    "        str2+=i\n",
    "str2+='aca'\n",
    "str2"
   ]
  },
  {
   "cell_type": "markdown",
   "metadata": {},
   "source": [
    "### Question 9: \n",
    "\n",
    "Write a python program to generate password. Be creative with how you generate passwords - strong passwords have a mix of lowercase letters, uppercase letters, numbers, and symbols. The passwords should be random, generating a new password every time the user asks for a new password. Include your code in a main method.\n",
    "\n",
    "Expected Output:\n",
    "```\n",
    "Please choose strong or weak:\n",
    "strong\n",
    "password: 3SPk|0}y\n",
    "do you want a new password? y/n\n",
    "n\n",
    "```"
   ]
  },
  {
   "cell_type": "code",
   "execution_count": 85,
   "metadata": {},
   "outputs": [],
   "source": [
    "# Solution 9\n",
    "import random\n",
    "import string\n",
    "def defmima(strong):\n",
    "    miam=''\n",
    "    str_source = string.ascii_letters + string.digits + string.punctuation\n",
    "    str_list = random.sample(str_source,strong)\n",
    "    if str_list not in ['/','\\\\','@','I','l','o','O']:\n",
    "        str_final = ''.join(str_list)\n",
    "        miam+=str_final\n",
    "    return miam\n",
    "while True:\n",
    "    mima=input(\"Please choose strong or weak:\")\n",
    "    if mima=='strong':\n",
    "        m=defmima(10)\n",
    "        print(f\"password: {m}\")\n",
    "        input(\"do you want a new password? y/n:\")\n",
    "        break\n",
    "    elif mima=='weak':\n",
    "        m=defmima(6)\n",
    "        print(f\"password: {m}\")\n",
    "        input(\"do you want a new password? y/n:\")\n",
    "        break\n",
    "    else:\n",
    "        print(\"Please re-enter strong or weak\")\n",
    "\n"
   ]
  },
  {
   "cell_type": "markdown",
   "metadata": {},
   "source": [
    "### Question 10: \n",
    "\n",
    "Write a python program to ask user for a string and then perform following operations:\n",
    "1. Calculate the num of digits \n",
    "2. Calculate the num of characters \n",
    "3. Calculate the num of vowels\n",
    "4. Calculate the num of lowercase letters\n",
    "5. replace ' ' with '_' in the string\n",
    "6. Print and Store the ouput to 'output.txt' file.\n",
    "\n",
    "Expected Output:\n",
    "```\n",
    "Enter string: Good Morning 369\n",
    "Output printed in'output.txt'\n",
    "```\n",
    "\n",
    "Expected Output in file output.txt:\n",
    "```\n",
    "The entered string is: Good Morning 369\n",
    "The number of digits is: 3\n",
    "The number of characters is: 16\n",
    "The number of vowels is: 4\n",
    "The number of lowercase letters is: 9\n",
    "The modified string is: Good_Morning_369\n",
    "```"
   ]
  },
  {
   "cell_type": "code",
   "execution_count": 86,
   "metadata": {},
   "outputs": [],
   "source": [
    "# Solution 10\n",
    "# Solution 10\n",
    "str1 = input(\"input_str:\")\n",
    "digits = 0\n",
    "vowels = 0\n",
    "lowercase = 0\n",
    "for i in str1:\n",
    "    if i.isdigit():\n",
    "        digits += 1\n",
    "    elif i >= \"a\" and i <= \"z\":\n",
    "        vowels += 1\n",
    "    elif i >= \"A\" and i <= \"Z\":\n",
    "        lowercase += 1\n",
    "s1=f\"The entered string is: {str1}\"\n",
    "s2=f\"The number of digits is: {digits}\"\n",
    "s3=f\"The number of characters is: {len(str1)}\"\n",
    "s4=f\"The number of vowels is: {lowercase}\"\n",
    "s5=f\"The number of lowercase letters is: {vowels}\"\n",
    "s6=f\"The modified string is: {str1.replace(' ','_')}\"\n",
    "shu=s1+'\\n'+s2+'\\n'+s3+'\\n'+s4+'\\n'+s5+'\\n'+s6\n",
    "print(shu)\n",
    "with open('./output.txt','w',encoding='utf-8')as f:\n",
    "    f.write(shu)\n",
    "\n"
   ]
  },
  {
   "cell_type": "markdown",
   "metadata": {},
   "source": [
    "### Question 11: \n",
    "\n",
    "Write a python program where user, will have a number in head between 0 and 100. The program will guess a number, and you, the user, will say whether it is too \"high\", too \"low\", or your number. Also, in the end program should print out how many guesses it took to get your number. Refer the Expected output for example.\n",
    "\n",
    "Expected Output:\n",
    "```\n",
    "WELCOME TO GUESS ME!\n",
    "Let me select a number between 1 and 100\n",
    "If your guess is more than 10 away from my number, I'll tell you you're COLD\n",
    "If your guess is within 10 of my number, I'll tell you you're WARM\n",
    "If your guess is farther than your most recent guess, I'll say you're getting COLDER\n",
    "If your guess is closer than your most recent guess, I'll say you're getting WARMER\n",
    "LET'S PLAY!\n",
    "Make your guess\n",
    "5\n",
    "WARMER!\n",
    "Make your guess\n",
    "9\n",
    "WARM!\n",
    "Make your guess\n",
    "3\n",
    "WARM!\n",
    "Make your guess\n",
    "4\n",
    "WARM!\n",
    "Make your guess\n",
    "6\n",
    "CONGRATULATIONS!, you guessed the correct answer in 5 attempts.\n",
    "```"
   ]
  },
  {
   "cell_type": "code",
   "execution_count": 87,
   "metadata": {},
   "outputs": [],
   "source": [
    "# Solution 11\n",
    "\n",
    "# Solution 11\n",
    "import random\n",
    "print('''WELCOME TO GUESS ME!\n",
    "Let me select a number between 1 and 100\n",
    "If your guess is more than 10 away from my number, I'll tell you you're COLD\n",
    "If your guess is within 10 of my number, I'll tell you you're WARM\n",
    "If your guess is farther than your most recent guess, I'll say you're getting COLDER\n",
    "If your guess is closer than your most recent guess, I'll say you're getting WARMER\n",
    "LET'S PLAY!''')\n",
    "\n",
    "randomshu = random.randint(1,100)\n",
    "cishu=0\n",
    "while True:\n",
    "    cishu+=1\n",
    "    inputshu = int(input(\"Make your guess:\"))\n",
    "    if inputshu==randomshu:\n",
    "        break\n",
    "    elif inputshu > randomshu+10 or inputshu < randomshu-10:\n",
    "        print(\"COLD!\")\n",
    "        print(\"you're getting COLDER\")\n",
    "    elif randomshu-10 < inputshu < randomshu+10:\n",
    "        print(\"WARM!\")\n",
    "        print(\"you're getting WARM!\")\n",
    "\n",
    "if inputshu == randomshu:\n",
    "    print(f\"CONGRATULATIONS!, you guessed the correct answer in {cishu} attempts.\")\n",
    "\n"
   ]
  },
  {
   "cell_type": "markdown",
   "metadata": {},
   "source": [
    "### Question 12: \n",
    "\n",
    "Write a python program using function that picks a random word from a list of words from the **[dictionary](https://github.com/milaan9/JLUFE_Intelligent_Tech_2005-2006/blob/main/sowpods.txt)**. Each line in the file contains a single word.\n",
    "\n",
    "`💡hint: use the Python random library for picking a random word`\n",
    "\n",
    "Expected Output:\n",
    "```\n",
    "Random word: GRAYNESSES\n",
    "```"
   ]
  },
  {
   "cell_type": "code",
   "execution_count": 88,
   "metadata": {},
   "outputs": [],
   "source": [
    "# Solution 12\n",
    "import requests\n",
    "import random\n",
    "response = requests.get('https://raw.githubusercontent.com/milaan9/JLUFE_Intelligent_Tech_2005-2006/main/sowpods.txt')\n",
    "list1=response.text.split('\\n')\n",
    "print(random.choice(list1))\n"
   ]
  },
  {
   "cell_type": "markdown",
   "metadata": {},
   "source": [
    "### Question 13: \n",
    "\n",
    "Write a python program where a text(.txt) file is given **[nameslist.txt](https://github.com/milaan9/JLUFE_Intelligent_Tech_2005-2006/blob/main/nameslist.txt)** that contains list of a bunch of names, count how many of each name there are in the file, and print out the results to the screen. \n",
    "\n",
    "Expected Output:\n",
    "```\n",
    "{'Darth': 31, 'Luke': 15, 'Leia': 54}\n",
    "```"
   ]
  },
  {
   "cell_type": "code",
   "execution_count": 89,
   "metadata": {},
   "outputs": [],
   "source": [
    "# Solution 13\n",
    "import requests\n",
    "response = requests.get('https://raw.githubusercontent.com/milaan9/JLUFE_Intelligent_Tech_2005-2006/main/nameslist.txt')\n",
    "list1=response.text.split('\\n')\n",
    "jishudict={}\n",
    "for i in list1:\n",
    "    try:\n",
    "        jishudict[i]+=1\n",
    "    except:\n",
    "        jishudict[i]=1\n",
    "print(jishudict)\n"
   ]
  },
  {
   "cell_type": "markdown",
   "metadata": {},
   "source": [
    "### Question 14: \n",
    "\n",
    "Write a python program where two .txt files are given that have lists of numbers in them, find the numbers that are overlapping. One '**[primenumbers1_1000.txt](https://github.com/milaan9/JLUFE_Intelligent_Tech_2005-2006/blob/main/primenumbers1_1000.txt)**' file has a list of all prime numbers under 1000, and the other '**[happynumbers1_1000.txt](https://github.com/milaan9/JLUFE_Intelligent_Tech_2005-2006/blob/main/happynumbers1_1000.txt)**' file has a list of **[happy numbers](https://en.wikipedia.org/wiki/Happy_number)** up to 1000.\n",
    "\n",
    "Expected Output:\n",
    "```\n",
    "The list of overlapping numbers:\n",
    " [7, 13, 19, 23, 31, 79, 97, 103, 109, 139, 167, 193, 239, 263, 293, 313, 331, 367, 379, 383, 397, 409, 487, 563, 617, 653, 673, 683, 709, 739, 761, 863, 881, 907, 937]\n",
    "```"
   ]
  },
  {
   "cell_type": "code",
   "execution_count": 90,
   "metadata": {},
   "outputs": [],
   "source": [
    "# Solution 14\n",
    "import requests\n",
    "primenumbers1_1000 = requests.get('https://raw.githubusercontent.com/milaan9/JLUFE_Intelligent_Tech_2005-2006/main/primenumbers1_1000.txt')\n",
    "happynumbers1_1000 = requests.get('https://raw.githubusercontent.com/milaan9/JLUFE_Intelligent_Tech_2005-2006/main/happynumbers1_1000.txt')\n",
    "primenumbers1_1000_list=primenumbers1_1000.text.split('\\n')\n",
    "happynumbers1_1000_list=happynumbers1_1000.text.split('\\n')\n",
    "shuzilist=[i for i in primenumbers1_1000_list if i in happynumbers1_1000_list]\n",
    "print(shuzilist)\n"
   ]
  },
  {
   "cell_type": "markdown",
   "metadata": {},
   "source": [
    "### Question 15: \n",
    "\n",
    "Create a function that takes a string as an argument and returns the Morse code equivalent.\n",
    "\n",
    "For example:\n",
    "```\n",
    "encode_morse(\"HELP ME !\") ➞ \".... . .-.. .--.   -- .   -.-.--\"\n",
    "```\n",
    "\n",
    "Expected Output:\n",
    "```\n",
    "Enter a sentence: I love\n",
    "..   .-.. --- ...- .\n",
    "Enter morse code: .--. -.-- - .... --- -.\n",
    "PYTHON\n",
    "```\n",
    "\n",
    "This dictionary can be used for coding:\n",
    "```\n",
    "char_to_dots = {\n",
    "    'A': '.-',   'B': '-...', 'C': '-.-.', 'D': '-..',  'E': '.',    'F': '..-.',\n",
    "    'G': '--.',  'H': '....', 'I': '..',   'J': '.---', 'K': '-.-',  'L': '.-..',\n",
    "    'M': '--',   'N': '-.',   'O': '---',  'P': '.--.', 'Q': '--.-', 'R': '.-.',\n",
    "    'S': '...',  'T': '-',    'U': '..-',  'V': '...-', 'W': '.--',  'X': '-..-',\n",
    "    'Y': '-.--', 'Z': '--..',  \n",
    "        \n",
    "    '0': '-----', '1': '.----', '2': '..---', '3': '...--', '4': '....-', \n",
    "    '5': '.....', '6': '-....', '7': '--...', '8': '---..', '9': '----.',\n",
    "        \n",
    "    ' ': ' ',      '&': '.-...',  \"'\": '.----.', '@': '.--.-.', ')': '-.--.-', \n",
    "    '(': '-.--.',  ':': '---...', ',': '--..--', '=': '-...-',  '!': '-.-.--', \n",
    "    '.': '.-.-.-', '-': '-....-', '+': '.-.-.', '\"': '.-..-.',  '?': '..--..', \n",
    "    '/': '-..-.'\n",
    "}\n",
    "```"
   ]
  },
  {
   "cell_type": "code",
   "execution_count": 91,
   "metadata": {},
   "outputs": [],
   "source": [
    "# Solution 15\n",
    "char_to_dots = {\n",
    "    'A': '.-',   'B': '-...', 'C': '-.-.', 'D': '-..',  'E': '.',    'F': '..-.',\n",
    "    'G': '--.',  'H': '....', 'I': '..',   'J': '.---', 'K': '-.-',  'L': '.-..',\n",
    "    'M': '--',   'N': '-.',   'O': '---',  'P': '.--.', 'Q': '--.-', 'R': '.-.',\n",
    "    'S': '...',  'T': '-',    'U': '..-',  'V': '...-', 'W': '.--',  'X': '-..-',\n",
    "    'Y': '-.--', 'Z': '--..',  \n",
    "        \n",
    "    '0': '-----', '1': '.----', '2': '..---', '3': '...--', '4': '....-', \n",
    "    '5': '.....', '6': '-....', '7': '--...', '8': '---..', '9': '----.',\n",
    "        \n",
    "    ' ': ' ',      '&': '.-...',  \"'\": '.----.', '@': '.--.-.', ')': '-.--.-', \n",
    "    '(': '-.--.',  ':': '---...', ',': '--..--', '=': '-...-',  '!': '-.-.--', \n",
    "    '.': '.-.-.-', '-': '-....-', '+': '.-.-.', '\"': '.-..-.',  '?': '..--..', \n",
    "    '/': '-..-.'\n",
    "}\n",
    "str1=input('Enter a sentence:')\n",
    "str2=''\n",
    "for i in str1:\n",
    "    str2+=char_to_dots[i.upper()]\n",
    "print(str2)\n"
   ]
  },
  {
   "cell_type": "code",
   "execution_count": null,
   "metadata": {},
   "outputs": [],
   "source": []
  }
 ],
 "metadata": {
  "hide_input": false,
  "kernelspec": {
   "display_name": "Python 3",
   "language": "python",
   "name": "python3"
  },
  "language_info": {
   "codemirror_mode": {
    "name": "ipython",
    "version": 3
   },
   "file_extension": ".py",
   "mimetype": "text/x-python",
   "name": "python",
   "nbconvert_exporter": "python",
   "pygments_lexer": "ipython3",
   "version": "3.8.8"
  },
  "toc": {
   "base_numbering": 1,
   "nav_menu": {},
   "number_sections": true,
   "sideBar": true,
   "skip_h1_title": false,
   "title_cell": "Table of Contents",
   "title_sidebar": "Contents",
   "toc_cell": false,
   "toc_position": {},
   "toc_section_display": true,
   "toc_window_display": false
  },
  "varInspector": {
   "cols": {
    "lenName": 16,
    "lenType": 16,
    "lenVar": 40
   },
   "kernels_config": {
    "python": {
     "delete_cmd_postfix": "",
     "delete_cmd_prefix": "del ",
     "library": "var_list.py",
     "varRefreshCmd": "print(var_dic_list())"
    },
    "r": {
     "delete_cmd_postfix": ") ",
     "delete_cmd_prefix": "rm(",
     "library": "var_list.r",
     "varRefreshCmd": "cat(var_dic_list()) "
    }
   },
   "types_to_exclude": [
    "module",
    "function",
    "builtin_function_or_method",
    "instance",
    "_Feature"
   ],
   "window_display": false
  }
 },
 "nbformat": 4,
 "nbformat_minor": 2
}
