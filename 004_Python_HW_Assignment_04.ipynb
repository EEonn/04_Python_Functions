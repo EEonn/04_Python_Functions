{
 "cells": [
  {
   "cell_type": "markdown",
   "metadata": {
    "ExecuteTime": {
     "end_time": "2021-07-20T09:16:22.081113Z",
     "start_time": "2021-07-20T09:16:22.072320Z"
    }
   },
   "source": [
    "&emsp;&emsp;&emsp;&emsp;&emsp;&emsp;&emsp;&emsp; **JLUFE**  &emsp;&emsp;&emsp;&emsp;&emsp;&emsp;&emsp;&emsp;&emsp;&emsp;&emsp;&emsp;&emsp;&emsp;&emsp;&emsp;&emsp;&emsp;&emsp;&emsp;&emsp;&emsp;&emsp;&emsp;&emsp;&emsp;&emsp;&emsp;&emsp;&emsp;&emsp;&emsp;&emsp;&ensp;**Fall 2021(Sep-Jan)**  \n",
    "\n",
    "\n",
    "**<div align=\"center\">Homework Assignment Report</div>**\n",
    "<br>\n",
    "\n",
    "**<div align=\"center\">JILIN UNIVERSITY OF FINANCE AND ECONOMICS</div>**\n",
    "<br>\n",
    "\n",
    "**<div align=\"center\"><span style=\"color:blue\">College of Managment Science and Information Engineering</span></div>**\n",
    "\n",
    "**<div align=\"center\">BSc in <span style=\"color:blue\">Data Science and Big Data Technology</span></div>**\n",
    "\n",
    "**<div align=\"center\">(2021)</div>**\n",
    "\n",
    "<br> \n",
    "\n",
    "**<div align=\"center\">MODULE: Intelligent Technology</div>**\n",
    "\n",
    "**<div align=\"center\">Homework Assignment: 04</div>**\n",
    "\n",
    "**<div align=\"center\">Flow Control Statements</div>**\n",
    "\n",
    "**<div align=\"center\">21/10/2021</div>**\n",
    "\n",
    "<br>\n",
    "\n",
    "**<div align=\"center\">Submitted by:</div>**\n",
    "\n",
    "**<div align=\"center\"><span style=\"color:blue\">Milan(米兰) 0318021907632 (2005)</span></div>**\n",
    "**<div align=\"center\">QQ: <span style=\"color:blue\">3086215265</span> | Github ID: <span style=\"color:blue\">milaan9</span></div>**"
   ]
  },
  {
   "cell_type": "markdown",
   "metadata": {},
   "source": [
    "# Instructions: \n",
    "\n",
    "\n",
    "1. I have added tips and required learning resources for each question, which helps you to solve the problems. \n",
    "\n",
    "2. Finish the assignment on your **OWN**. **<span style=\"color:red\">Any student find copying/sharing from classmates or internet will get '0' points!!!</span>**\n",
    "\n",
    "3. After <span class='label label-default'>Accepting this assignment</span> from ➞ **[GitHub Clasroom link](https://classroom.github.com/a/zeslyIXN)**, Github will create private repository of the assignment in your GitHub Classroom account.\n",
    "\n",
    "4. In your repository <span class='label label-default'>Clone</span> ➞ <span class='label label-default'>Download ZIP</span> in your computer.\n",
    "\n",
    "5. Change your ➞ **College**, **Major**, **Name**, **Student number**, **Class number**, **QQ number** and **GitHub ID**\n",
    "\n",
    "6. Once you finish the Assignment **[convert your .ipynb file into PDF](https://github.com/milaan9/91_Python_Mini_Projects/tree/main/001_Convert_IPython_to_PDF)** (both **.ipynb** and **.pdf** file will be required!)\n",
    "\n",
    "7. To submit your assignment, go to GitHub Classroom repository and <span class='label label-default'>Add file</span> ➞ <span class='label label-default'>Upload files</span> ➞ <span class='label label-default'>Commit changes</span>\n",
    "    1. Replace the question (**.ipynb**) file with your solution (**.ipynb**) file.\n",
    "    2. Also, upload (**.pdf**) converted file of your solution (**.ipynb**) file."
   ]
  },
  {
   "cell_type": "markdown",
   "metadata": {},
   "source": [
    "# Python Assignment 04"
   ]
  },
  {
   "cell_type": "markdown",
   "metadata": {},
   "source": [
    "# Part A ➞ If-elif-else Statements <span class='label label-default'>Level 1, 2 & 3</span>\n",
    "\n",
    ">**Note:** Please create new cell for each question"
   ]
  },
  {
   "cell_type": "markdown",
   "metadata": {},
   "source": [
    "### Part A ➞ <span class='label label-default'>Level 1</span>\n",
    ">**Note:** Please create new cell for each question\n",
    "\n",
    "1.  Get two numbers from the user using **`input()`** prompt. \n",
    "    - If **`num_1`** is greater than **`num_2`** return **`num_1`** is greater than **`num_2`**, \n",
    "    - if **`num_1`** is less **`num_2`** return **`num_1`** is smaller than **`num_2`**, \n",
    "    - else **`num_1`** is equal to **`num_2`**. \n",
    "\n",
    "    - ```sh\n",
    "Enter number one: 9\n",
    "Enter number two: 6\n",
    "9 is greater than 6\n",
    " ```"
   ]
  },
  {
   "cell_type": "code",
   "execution_count": null,
   "metadata": {},
   "outputs": [],
   "source": [
    "# Solution:\n",
    "num1 = input(\"Enter number one:\")\n",
    "num2 = input(\"Enter number two:\")\n",
    "if num1 < num2 :\n",
    "    print(num1 + \"is less\" + num2)\n",
    "if num1 > num2 :\n",
    "    print(num1 + \" is greater than\" + num2)\n",
    "else:\n",
    "    print(num1 + \" is equal \" + num2)\n",
    "\n"
   ]
  },
  {
   "cell_type": "markdown",
   "metadata": {},
   "source": [
    "### Part A ➞ <span class='label label-default'>Level 2</span>\n",
    ">**Note:** Please create new cell for each question\n",
    "\n",
    "1. Write a code which gives grade to students according to theirs scores get from user **`input()`**:\n",
    "   \n",
    "    - ```sy\n",
    " 80-100, A\n",
    " 70-89, B\n",
    " 60-69, C\n",
    " 50-59, D\n",
    " 0-49, F\n",
    "    ```\n",
    "\n",
    "2. Check if the season is **`Autumn`**, **`Winter`**, **`Spring`** or **`Summer`**. \n",
    "    - If the user **`input()`** is:\n",
    "        - September, October or November, the season is Autumn.\n",
    "        - December, January or February, the season is Winter.\n",
    "        - March, April or May, the season is Spring\n",
    "        - June, July or August, the season is Summer\n",
    "\n",
    "\n",
    "3.  The following list contains some fruits:\n",
    "       - Taker user **`input()`** and if a fruit doesn't exist in the list add the fruit to the list and print the modified list. If the fruit exists print **`('That fruit already exist in the list')`** \n",
    "    \n",
    "    ```py\n",
    " fruits = ['banana', 'orange', 'mango', 'pear']\n",
    "    ```  "
   ]
  },
  {
   "cell_type": "code",
   "execution_count": 16,
   "metadata": {},
   "outputs": [
    {
     "name": "stdout",
     "output_type": "stream",
     "text": [
      "Please enter the score:65\n",
      "Your grade is C\n"
     ]
    }
   ],
   "source": [
    "score = int(input(\"Please enter the score:\"))\n",
    "if(90<=score<=100):\n",
    "    print(\"Your grade is A\")\n",
    "elif(70<=score<=89):\n",
    "    print(\"Your grade is B\")\n",
    "elif(60<=score<=69):\n",
    "    print(\"Your grade is C\")\n",
    "elif(50<=score<=59):\n",
    "    print(\"Your grade is D\")\n",
    "else:\n",
    "    print(\"Your grade is E\")"
   ]
  },
  {
   "cell_type": "code",
   "execution_count": 17,
   "metadata": {},
   "outputs": [
    {
     "name": "stdout",
     "output_type": "stream",
     "text": [
      "month:June\n",
      "Summer\n"
     ]
    }
   ],
   "source": [
    "month = input(\"month:\")\n",
    "if month in [\"September\", \"October\" , \"November\"]:\n",
    "    print(\"Autumn\")\n",
    "if month in [\"December\", \"January\" , \"February\"]:\n",
    "    print(\"Winter\")\n",
    "if month in [\"March\", \"April\" , \"May\"]:\n",
    "    print(\"Spring\")\n",
    "if month in [\"June\", \"July\" , \"August\"]:\n",
    "    print(\"Summer\")\n"
   ]
  },
  {
   "cell_type": "code",
   "execution_count": 18,
   "metadata": {},
   "outputs": [
    {
     "name": "stdout",
     "output_type": "stream",
     "text": [
      "fruit:banana\n",
      "That fruit already exist in the list\n"
     ]
    }
   ],
   "source": [
    "fruit = input(\"fruit:\")\n",
    "fruits = ['banana', 'orange', 'mango', 'pear']\n",
    "if fruit in fruits:\n",
    "    print(\"That fruit already exist in the list\")\n",
    "else:\n",
    "    fruits.append(fruit)\n",
    "    print(fruits)"
   ]
  },
  {
   "cell_type": "markdown",
   "metadata": {},
   "source": [
    "### Part A ➞ <span class='label label-default'>Level 3</span>\n",
    ">**Note:** Please create new cell for each question\n",
    "\n",
    "1. Here we have a person dictionary. Feel free to modify it!\n",
    "   \n",
    "    - ```py\n",
    "    person={\n",
    "    'first_name': 'Milaan',\n",
    "    'last_name': 'Parmar',\n",
    "    'age': 96,\n",
    "    'country': 'England',\n",
    "    'is_marred': True,\n",
    "    'skills': ['Python', 'Matlab', 'R', 'C', 'C++'],\n",
    "    'address': {\n",
    "        'street': 'Space street',\n",
    "        'zipcode': '02210'\n",
    "    }\n",
    "    }\n",
    "    ```\n",
    "\n",
    "     * Check if the person dictionary has **`skills`** key, if so print out the middle skill in the skills list.\n",
    "     * Check if the person dictionary has **`skills`** key, if so check if the person has 'Python' skill and print out the result.\n",
    "     * If a person skills has only Python and Matlab, print ('He knows machine learning'), if the person skills has Python, and R print ('He knows statistics'), if the person skills has C, and C++, Print ('He knows software development'), else print ('unknown title') - for more accurate results more conditions can be nested!\n",
    "     * If the person is married and if he lives in England, print the information in the following format:\n",
    "\n",
    "    - ```sy\n",
    "    Milaan Parmar lives in England. He is married.\n",
    "    ```"
   ]
  },
  {
   "cell_type": "code",
   "execution_count": 20,
   "metadata": {},
   "outputs": [
    {
     "name": "stdout",
     "output_type": "stream",
     "text": [
      "['Python', 'Matlab', 'R', 'C', 'C++']\n",
      "Yes\n",
      "He knows machine learning\n",
      "He knows statistics\n",
      "He knows software development\n",
      "Milaan Parmar lives in England.He is married\n"
     ]
    }
   ],
   "source": [
    "# Solution: \n",
    "person={\n",
    "'first_name': 'Milaan',\n",
    "'last_name': 'Parmar',\n",
    "'age': 96,\n",
    "'country': 'England',\n",
    "'is_marred': True,\n",
    "'skills': ['Python', 'Matlab', 'R', 'C', 'C++'],\n",
    "'address': {\n",
    " 'street': 'Space street',\n",
    " 'zipcode': '02210'\n",
    "}\n",
    "}\n",
    "if 'skills' in person.keys():\n",
    "    print(person[\"skills\"])\n",
    "if 'skills' in person.keys():\n",
    "    if 'Python' in person[\"skills\"]:\n",
    "        print(\"Yes\")\n",
    "    else:\n",
    "        print(\"No\")\n",
    "    if 'Matlab' in person[\"skills\"] and \"Python\" in person[\"skills\"]:\n",
    "        print('He knows machine learning')\n",
    "    if 'R' in person[\"skills\"] and \"Python\" in person[\"skills\"]:\n",
    "        print('He knows statistics')\n",
    "    if 'C' in person[\"skills\"] and \"C++\" in person[\"skills\"]:\n",
    "        print('He knows software development')\n",
    "    else:\n",
    "        print('unknown title')\n",
    "if person[\"is_marred\"] == True and person['country'] == 'England':\n",
    "    print(person['first_name']+\" \"+person['last_name']+\" \"+\"lives in\"+\" \"+person['country']+\".\"+\"He is married\")\n",
    "\n"
   ]
  },
  {
   "cell_type": "markdown",
   "metadata": {},
   "source": [
    "# Part B ➞ Loops <span class='label label-default'>Level 1, 2 and 3</span>\n",
    "\n",
    ">**Note:** Please create new cell for each question"
   ]
  },
  {
   "cell_type": "markdown",
   "metadata": {},
   "source": [
    "### Part B ➞ <span class='label label-default'>Level 1</span>\n",
    ">**Note:** Please create new cell for each question\n",
    "\n",
    "1. Iterate 0 to 10 using **`for`** loop, do the same using **`while`** loop.\n",
    "2. Iterate 10 to 0 using **`for`** loop, do the same using **`while`** loop.\n",
    "3. Write a code so we get on the output the following square by taking **`input()`** from user:\n",
    "\n",
    "    - ```sy\n",
    "# = # = # = # = #\n",
    "# = # = # = # = #\n",
    "# = # = # = # = #\n",
    "# = # = # = # = #\n",
    "# = # = # = # = #\n",
    "# = # = # = # = #\n",
    "# = # = # = # = #\n",
    "# = # = # = # = #\n",
    "    ```\n",
    "\n",
    "4. Use nested loops to create the following by taking **`input()`** from user:\n",
    "\n",
    "```sy\n",
    "      #\n",
    "     ###\n",
    "    #####\n",
    "   #######\n",
    "  #########\n",
    " ###########\n",
    "#############\n",
    "```\n",
    "\n",
    "5. Print the following using loops by taking **`input()`** from user:\n",
    "\n",
    "    - ```sy\n",
    "   0 x 0 = 0\n",
    "   1 x 1 = 1\n",
    "   2 x 2 = 4\n",
    "   3 x 3 = 9\n",
    "   4 x 4 = 16\n",
    "   5 x 5 = 25\n",
    "   6 x 6 = 36\n",
    "   7 x 7 = 49\n",
    "   8 x 8 = 64\n",
    "   9 x 9 = 81\n",
    "   10 x 10 = 100\n",
    "    ```\n",
    "\n",
    "6. Iterate through the list, **`['Python', 'Numpy', 'Pandas', 'Scikit', 'Pytorch']`** using a **`for`** loop and print out the items.\n",
    "\n",
    "7.  Use **`while`** loop to iterate from 0 to 100 and print the sum of all numbers.\n",
    "\n",
    "    - ```py\n",
    "   The sum of all numbers is 5050.\n",
    "    ```\n",
    "    \n",
    "8. Use **`for`** loop to iterate from 0 to 100 and print the sum of all evens and the sum of all odds.\n",
    "\n",
    "    - ```py\n",
    "    The sum of all evens is 2550. And the sum of all odds is 2500.\n",
    "    ```"
   ]
  },
  {
   "cell_type": "code",
   "execution_count": null,
   "metadata": {},
   "outputs": [],
   "source": []
  },
  {
   "cell_type": "code",
   "execution_count": 22,
   "metadata": {},
   "outputs": [
    {
     "name": "stdout",
     "output_type": "stream",
     "text": [
      "# = # = # = # = #\n",
      "# = # = # = # = #\n",
      "# = # = # = # = #\n",
      "# = # = # = # = #\n",
      "# = # = # = # = #\n",
      "# = # = # = # = #\n",
      "# = # = # = # = #\n",
      "# = # = # = # = #\n"
     ]
    }
   ],
   "source": [
    "# Solution: \n",
    "count = 0\n",
    "for n in range(10):\n",
    "    while(count < 10):\n",
    "        count+=1\n",
    "    count = 10\n",
    "    while(count > 0):\n",
    "        count-=1\n",
    "for n in range(8):\n",
    "    print(\"# = # = # = # = #\")"
   ]
  },
  {
   "cell_type": "code",
   "execution_count": 27,
   "metadata": {},
   "outputs": [
    {
     "name": "stdout",
     "output_type": "stream",
     "text": [
      "high:7\n",
      "       \n",
      "      #\n",
      "     ###\n",
      "    #####\n",
      "   #######\n",
      "  #########\n",
      " ###########\n",
      "#############\n"
     ]
    }
   ],
   "source": [
    "n = input(\"high:\")\n",
    "n = int(n)\n",
    "for m in range(n+1):\n",
    "    for k in range(n-m):\n",
    "        print(\" \", end=\"\")\n",
    "    for k in range(2*m-1):\n",
    "        print(\"#\", end=\"\")\n",
    "    print()\n"
   ]
  },
  {
   "cell_type": "code",
   "execution_count": 35,
   "metadata": {},
   "outputs": [
    {
     "name": "stdout",
     "output_type": "stream",
     "text": [
      "number:7\n",
      "0x0=2\n",
      "1x1=3\n",
      "2x2=0\n",
      "3x3=1\n",
      "4x4=6\n",
      "5x5=7\n",
      "6x6=4\n"
     ]
    }
   ],
   "source": [
    "n = input(\"number:\")\n",
    "n = int(i)\n",
    "for m in range(i):\n",
    "    z = m^2\n",
    "    z = str(z)\n",
    "    m = str(m)\n",
    "    print(m+\"x\"+m+\"=\"+z)\n"
   ]
  },
  {
   "cell_type": "code",
   "execution_count": 31,
   "metadata": {},
   "outputs": [
    {
     "name": "stdout",
     "output_type": "stream",
     "text": [
      "Python\n",
      "Numpy\n",
      "Pandas\n",
      "Scikit\n",
      "Pytorch\n"
     ]
    }
   ],
   "source": [
    "list = ['Python', 'Numpy', 'Pandas', 'Scikit', 'Pytorch']\n",
    "for n in range(len(list)):\n",
    "    print(list[n])\n"
   ]
  },
  {
   "cell_type": "code",
   "execution_count": 36,
   "metadata": {},
   "outputs": [
    {
     "name": "stdout",
     "output_type": "stream",
     "text": [
      "5050\n"
     ]
    }
   ],
   "source": [
    "count = 0\n",
    "sum = 0\n",
    "while(count<=100):\n",
    "    sum = sum + count\n",
    "    count = count + 1\n",
    "print(sum)"
   ]
  },
  {
   "cell_type": "code",
   "execution_count": 54,
   "metadata": {},
   "outputs": [
    {
     "name": "stdout",
     "output_type": "stream",
     "text": [
      "2550\n"
     ]
    }
   ],
   "source": [
    "i=0\n",
    "sum = 0\n",
    "for i in range(0,101):\n",
    "    if(i%2==0):\n",
    "        sum=sum + i\n",
    "print(sum)"
   ]
  },
  {
   "cell_type": "markdown",
   "metadata": {},
   "source": [
    "### Part B ➞ <span class='label label-default'>Level 2</span>\n",
    ">**Note:** Please create new cell for each question\n",
    "\n",
    "1. Use **`for`** loop to find fibonacci numbers from from 0 to 100 and print only even numbers from it. Also, find how many even numbers are in it.\n",
    "2. Use **`while`** loop to find fibonacci numbers from from 0 to 100 and print only odd numbers from it. Also find how many odd numbers are in it."
   ]
  },
  {
   "cell_type": "markdown",
   "metadata": {},
   "source": [
    "### Part B ➞ <span class='label label-default'>Level 3</span>\n",
    ">**Note:** Please create new cell for each question\n",
    "\n",
    "1. Go to the data folder and use the **[countries_data.py](https://github.com/milaan9/02_Python_Datatypes/blob/main/countries_data.py)** file. Loop through the countries and extract all the countries containing the word **`land`**.\n",
    "2. This is a fruit list, **`['banana', 'orange', 'mango', 'lemon']`** reverse the order using loop.\n",
    "3. Go to the data folder and use the **[countries_details_data.py](https://github.com/milaan9/03_Python_Flow_Control/blob/main/countries_details_data.py)** file. \n",
    "   1. What are the total number of languages in the data\n",
    "   2. Find the ten most spoken languages from the data\n",
    "   3. Find the 10 most populated countries in the world"
   ]
  },
  {
   "cell_type": "code",
   "execution_count": 58,
   "metadata": {},
   "outputs": [
    {
     "name": "stdout",
     "output_type": "stream",
     "text": [
      "1\n",
      "1\n",
      "2\n",
      "3\n",
      "5\n",
      "8\n",
      "13\n",
      "21\n",
      "34\n",
      "55\n",
      "89\n"
     ]
    }
   ],
   "source": [
    "# Solution: \n",
    "a1= 1\n",
    "a2= 1\n",
    "print(a1)\n",
    "print(a2) \n",
    "for an in range(0,100): \n",
    "    if an == a2 + a1:\n",
    "        print(an)\n",
    "        a1,a2 = a2,an\n"
   ]
  },
  {
   "cell_type": "code",
   "execution_count": 57,
   "metadata": {},
   "outputs": [
    {
     "name": "stdout",
     "output_type": "stream",
     "text": [
      "1\n",
      "1\n",
      "2\n",
      "3\n",
      "5\n",
      "8\n",
      "13\n",
      "21\n",
      "34\n",
      "55\n",
      "89\n"
     ]
    }
   ],
   "source": [
    "a1 = 0\n",
    "a2 = 1\n",
    "an = 1\n",
    "while an < 100:\n",
    "    print(an)\n",
    "    an = a2 + a1\n",
    "    a1,a2 = a2,an"
   ]
  },
  {
   "cell_type": "code",
   "execution_count": null,
   "metadata": {},
   "outputs": [],
   "source": []
  }
 ],
 "metadata": {
  "hide_input": false,
  "kernelspec": {
   "display_name": "Python 3",
   "language": "python",
   "name": "python3"
  },
  "language_info": {
   "codemirror_mode": {
    "name": "ipython",
    "version": 3
   },
   "file_extension": ".py",
   "mimetype": "text/x-python",
   "name": "python",
   "nbconvert_exporter": "python",
   "pygments_lexer": "ipython3",
   "version": "3.8.8"
  },
  "toc": {
   "base_numbering": 1,
   "nav_menu": {},
   "number_sections": true,
   "sideBar": true,
   "skip_h1_title": false,
   "title_cell": "Table of Contents",
   "title_sidebar": "Contents",
   "toc_cell": false,
   "toc_position": {},
   "toc_section_display": true,
   "toc_window_display": false
  },
  "varInspector": {
   "cols": {
    "lenName": 16,
    "lenType": 16,
    "lenVar": 40
   },
   "kernels_config": {
    "python": {
     "delete_cmd_postfix": "",
     "delete_cmd_prefix": "del ",
     "library": "var_list.py",
     "varRefreshCmd": "print(var_dic_list())"
    },
    "r": {
     "delete_cmd_postfix": ") ",
     "delete_cmd_prefix": "rm(",
     "library": "var_list.r",
     "varRefreshCmd": "cat(var_dic_list()) "
    }
   },
   "types_to_exclude": [
    "module",
    "function",
    "builtin_function_or_method",
    "instance",
    "_Feature"
   ],
   "window_display": false
  }
 },
 "nbformat": 4,
 "nbformat_minor": 2
}
